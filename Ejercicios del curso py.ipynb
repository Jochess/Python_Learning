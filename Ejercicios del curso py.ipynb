{
 "cells": [
  {
   "cell_type": "code",
   "execution_count": 2,
   "id": "62d23881",
   "metadata": {},
   "outputs": [
    {
     "name": "stdout",
     "output_type": "stream",
     "text": [
      "Emilio Cisneros\n"
     ]
    }
   ],
   "source": [
    "nombre=\"Emilio \"\n",
    "apellido=\"Cisneros \"\n",
    "print(nombre + apellido)"
   ]
  },
  {
   "cell_type": "code",
   "execution_count": 3,
   "id": "6334116d",
   "metadata": {},
   "outputs": [
    {
     "name": "stdout",
     "output_type": "stream",
     "text": [
      "Emilio Cineros\n"
     ]
    }
   ],
   "source": [
    "print(\"Emilio Cineros\")"
   ]
  },
  {
   "cell_type": "code",
   "execution_count": 6,
   "id": "f2355ba8",
   "metadata": {},
   "outputs": [
    {
     "name": "stdout",
     "output_type": "stream",
     "text": [
      "Hola Emilio Cisneros Rodriguez\n"
     ]
    }
   ],
   "source": [
    "print(\"Hola \"+ nombre + apellido + \" Rodriguez\")"
   ]
  },
  {
   "cell_type": "code",
   "execution_count": 7,
   "id": "ef4cec9b",
   "metadata": {},
   "outputs": [
    {
     "name": "stdout",
     "output_type": "stream",
     "text": [
      "Hola Emilio  Cisneros Rodriguez\n"
     ]
    }
   ],
   "source": [
    "print(f\"Hola {nombre} {apellido} Rodriguez\")"
   ]
  },
  {
   "cell_type": "markdown",
   "id": "db084277",
   "metadata": {},
   "source": [
    "Usando la instrucción input, pedir al usuario su nombre y apellido (por separado) y guardarlos en las variables nombre y apellido. Luego, definir una variable llamada nombre_completo que resulte de la concatenación de las variables nombre y apellido. Sin embargo, entre el nombre y el apellido debe haber un espacio en blanco (se puede utilizar un par de comillas con un espacio: \" \"). Por último, debe imprimirse en pantalla el texto \"Tu nombre completo es: \" (sin comillas) seguido del contenido de la variable nombre_completo.\n",
    "\n",
    "He aquí un ejemplo de uso de este programa (en cursivas la entrada del usuario):\n",
    "\n",
    "Ingresa tu nombre: Juan\n",
    "Ingresa tu apellido: Perez\n",
    "Tu nombre completo es: Juan Perez"
   ]
  },
  {
   "cell_type": "code",
   "execution_count": 8,
   "id": "cc1a28d9",
   "metadata": {},
   "outputs": [
    {
     "name": "stdout",
     "output_type": "stream",
     "text": [
      "Ingresa tu nombre Emilio \n",
      "Ingresa tu apellido Cisneros\n",
      "Tu nombre completo es: Emilio Cisneros\n"
     ]
    }
   ],
   "source": [
    "nombre=input(\"Ingresa tu nombre \")\n",
    "apellido=input(\"Ingresa tu apellido \")\n",
    "nombre_completo= nombre + apellido\n",
    "print(\"Tu nombre completo es: \"+ nombre_completo)"
   ]
  },
  {
   "cell_type": "markdown",
   "id": "e183d002",
   "metadata": {},
   "source": [
    "Ejercicio 6 - Conversor de temperatura\n",
    "Usando input, solicitar al usuario una temperatura expresada en grados Celsius como un número de coma flotante y guardarlo en la variable temp_celsius. Luego, convertir la temperatura ingresada a Kelvin y Fahrenheit y guardar los resultados en las variables temp_kelvin y temp_fahrenheit (deben buscarse las fórmulas de conversión de Celsius a Kelvin y de Celsius a Fahrenheit, que son muy simples). Por último, imprimir los valores de las temperaturas convertidas.\n",
    "\n",
    "Ejemplo de uso del programa (en cursivas la entrada del usuario):\n",
    "\n",
    "Ingresa la temperatura en Celsius: 24.5\n",
    "La temperatura en Kelvin es: 297.65\n",
    "La temperatura en Fahrenheit es: 76.1"
   ]
  },
  {
   "cell_type": "code",
   "execution_count": null,
   "id": "36ff8b0a",
   "metadata": {},
   "outputs": [],
   "source": [
    "temp_celsius=float((input(\"Ingresa una temperatura en grados: \"))\n",
    "temp_kelvin=temp_celsius + 273\n",
    "temp_fahrenheit= temp_celsius * 1.8 + 32)\n",
    "print(\"La temperatura en Kelvin es: \"temp_kelvin)\n",
    "print(\"La temperatura en farenheit es: \"temp_fahrenheit)"
   ]
  },
  {
   "cell_type": "code",
   "execution_count": 5,
   "id": "b13c4f35",
   "metadata": {},
   "outputs": [
    {
     "name": "stdout",
     "output_type": "stream",
     "text": [
      "Ingresa la temperatura en Celsius: 25\n",
      "La temperatura en Kelvin es: 298.15\n",
      "La temperatura en Fahrenheit es: 77.0\n"
     ]
    }
   ],
   "source": []
  },
  {
   "cell_type": "markdown",
   "id": "94b43846",
   "metadata": {},
   "source": [
    "Ejercicio 7 - Promedio de notas\n",
    "\n",
    "Usando input, solicitarle dos notas al usuario como números de coma flotante y guardarlas en las variables nota1 y nota2. Luego, calcular el promedio de las dos notas y guardarlo en la variable promedio. Por último, imprimir el promedio en pantalla.\n",
    "\n",
    "Ejemplo de uso de este programa (en cursivas la entrada del usuario):\n",
    "\n",
    "Ingresa la primera nota: 5\n",
    "Ingresa la segunda nota: 10\n",
    "Tu promedio es: 7.5"
   ]
  },
  {
   "cell_type": "code",
   "execution_count": 13,
   "id": "e7281446",
   "metadata": {},
   "outputs": [
    {
     "name": "stdout",
     "output_type": "stream",
     "text": [
      "Ingresa la primera nota5\n",
      "Ingresa tu segunda nota10\n",
      "Tu promerdio es:  7.5\n"
     ]
    }
   ],
   "source": [
    "nota_1=float(input(\"Ingresa la primera nota\"))\n",
    "nota_2=float(input(\"Ingresa tu segunda nota\"))\n",
    "promedio=(nota_1 + nota_2) / 2\n",
    "print(\"Tu promerdio es: \", promedio)"
   ]
  },
  {
   "cell_type": "markdown",
   "id": "7f3dd51d",
   "metadata": {},
   "source": [
    "Escribir un programa que resuelva la siguiente fórmula (conocida como fórmula de Bhaskara o resolvente):\n",
    "\n",
    "\n",
    "\n",
    "Para ello, pedirle al usuario usando input los valores de las variables a, b y c como números de coma flotante. Para calcular la raíz cuadrada se puede elevar usando 0.5 como expontente. La potenciación en Python se realiza con el operador ** (doble asterisco). Por ejemplo, la expresión 16 ** 0.5 devuelve la raíz cuadrada de 16. Puesto que esta fórmula tiene dos resultados, se los debe guardar en las variables x1 y x2. Finalmente, imprimir los dos resultados (primero x1 y luego x2).\n",
    "\n",
    "Ejemplo de uso de este programa (en cursivas la entrada del usuario):\n",
    "\n",
    "Ingresa el valor de a: 1\n",
    "Ingresa el valor de b: 1\n",
    "Ingresa el valor de c: -6\n",
    "Resultado 1: 2.0\n",
    "Resultado 2: -3.0"
   ]
  },
  {
   "cell_type": "code",
   "execution_count": 2,
   "id": "01a48973",
   "metadata": {},
   "outputs": [
    {
     "name": "stdout",
     "output_type": "stream",
     "text": [
      "Ingresa el valor de a: 1\n",
      "Ingresa el valor de b: 1\n",
      "Ingresa el valor de c: -6\n",
      "Resultado 1: 2.0\n",
      "Resultado 2: -3.0\n"
     ]
    }
   ],
   "source": [
    "a = float(input(\"Ingresa el valor de a: \"))\n",
    "b = float(input(\"Ingresa el valor de b: \"))\n",
    "c = float(input(\"Ingresa el valor de c: \"))\n",
    "\n",
    "raiz = (b**2 - 4*a*c) ** 0.5\n",
    "x1 = (-b + raiz) / 2*a\n",
    "x2 = (-b - raiz) / 2*a\n",
    "\n",
    "print(\"Resultado 1:\", x1)\n",
    "print(\"Resultado 2:\", x2)"
   ]
  },
  {
   "cell_type": "markdown",
   "id": "6fc431d5",
   "metadata": {},
   "source": [
    "Solicitar al usuario su edad y guardar el dato en una variable llamada edad. Utilizando condicionales, determinar si el usuario es mayor o menor de edad. Se considera mayor de edad si el número ingresado es mayor o igual a 18. Finalmente, el programa debe imprimir, según corresponda, \"Mayor de edad.\" o \"Menor de edad.\" (sin las comillas)."
   ]
  },
  {
   "cell_type": "code",
   "execution_count": 6,
   "id": "29831ab0",
   "metadata": {},
   "outputs": [
    {
     "name": "stdout",
     "output_type": "stream",
     "text": [
      "Ingresa tu edad: 18\n",
      "Mayor de edad\n"
     ]
    }
   ],
   "source": [
    "edad=float(input(\"Ingresa tu edad: \"))\n",
    "if edad >= 18:\n",
    "    print(\"Mayor de edad\")\n",
    "else:\n",
    "    print(\"Eres menor de edad\")"
   ]
  },
  {
   "cell_type": "markdown",
   "id": "507a69ab",
   "metadata": {},
   "source": [
    "Solicitar el precio de un producto al usuario y guardarlo en la variable precio_producto como un número de coma flotante. Si el precio ingresado es mayor a 1000, al precio del producto se le debe descontar un 20%. Si el precio es menor o igual a 1000, se mantiene igual. Finalmente, imprimir el precio final del producto.\n",
    "\n",
    "Ejemplo de uso de este programa (en cursivas la entrada del usuario):"
   ]
  },
  {
   "cell_type": "code",
   "execution_count": 15,
   "id": "7448cc35",
   "metadata": {},
   "outputs": [
    {
     "name": "stdout",
     "output_type": "stream",
     "text": [
      "Ingresa el precio: 2000\n",
      "precio_producto:  1600.0\n"
     ]
    }
   ],
   "source": [
    "precio_producto=float(input(\"Ingresa el precio: \"))\n",
    "if precio_producto>= 1000:\n",
    "    precio_producto= precio_producto * 0.8\n",
    "print(\"precio_producto: \" , precio_producto)"
   ]
  },
  {
   "cell_type": "markdown",
   "id": "2de526d3",
   "metadata": {},
   "source": [
    "Solicitar al usuario su nombre de usuario y clave. Si el nombre de usuario ingresado es \"admin\" y la clave es \"python123\" (ambas condiciones deben cumplirse), el programa debe imprimir \"¡Bienvenido!\" (sin comillas). En caso contrario debe imprimir \"Usuario o clave incorrectos.\" (sin comillas).\n",
    "\n",
    "Ejemplo de uso de este programa (en cursivas la entrada del usuario):\n",
    "\n",
    "Ingresa el nombre de usuario: admin\n",
    "Ingresa la clave: python123\n",
    "¡Bienvenido!\n",
    "\n",
    "Otro ejemplo:\n",
    "\n",
    "Ingresa el nombre de usuario: admin\n",
    "Ingresa la clave: python321\n",
    "Usuario o clave incorrectos."
   ]
  },
  {
   "cell_type": "code",
   "execution_count": 21,
   "id": "c2437750",
   "metadata": {},
   "outputs": [
    {
     "name": "stdout",
     "output_type": "stream",
     "text": [
      "Ingresa tu nombre de usuario: admin\n",
      "Ingresa tu contraseña: python123\n",
      "¡Bienvenido!\n"
     ]
    }
   ],
   "source": [
    "nombre_usuario= input(\"Ingresa tu nombre de usuario: \")\n",
    "clave= input(\"Ingresa tu contraseña: \")\n",
    "\n",
    "if nombre_usuario== 'admin' and clave=='python123':\n",
    "    print(\"¡Bienvenido!\")\n",
    "else:\n",
    "    print(\"Usuario o clave incorrectos.\")"
   ]
  },
  {
   "cell_type": "markdown",
   "id": "e3407921",
   "metadata": {},
   "source": [
    "Solicitar al usuario el nombre de un curso de programación. Si el curso ingresado es \"Python\" o \"Django\", el programa debe imprimir que el curso tiene descuento. En caso contrario debe imprimir que no tiene descuento.\n",
    "\n",
    "Ejemplo de uso del programa (en cursivas la entrada del usuario):\n",
    "\n",
    "Ingresa el nombre del curso: Python\n",
    "¡Tu curso tiene descuento!\n",
    "\n",
    "Otro ejemplo:\n",
    "\n",
    "Ingresa el nombre del curso: Java\n",
    "Tu curso no tiene descuento."
   ]
  },
  {
   "cell_type": "code",
   "execution_count": 27,
   "id": "e5a4fce1",
   "metadata": {},
   "outputs": [
    {
     "name": "stdout",
     "output_type": "stream",
     "text": [
      "Curso de programacion: Python\n",
      "El curso tiene descuento\n"
     ]
    }
   ],
   "source": [
    "Curso_programacion=input(\"Curso de programacion: \")\n",
    "if Curso_programacion==\"Python\" or Curso_programacion==\"Django\":\n",
    "    print(\"El curso tiene descuento\")\n",
    "else:\n",
    "    print(\"El curso no tiene descuento\")\n"
   ]
  },
  {
   "cell_type": "code",
   "execution_count": null,
   "id": "d715a296",
   "metadata": {},
   "outputs": [],
   "source": [
    "caracteres = 'Siempre van entre comillas'\n",
    "numeros = 124221422\n",
    "float = 34242.945\n",
    "booleanos = True\n",
    "\n"
   ]
  },
  {
   "cell_type": "code",
   "execution_count": null,
   "id": "1799b278",
   "metadata": {},
   "outputs": [],
   "source": []
  }
 ],
 "metadata": {
  "kernelspec": {
   "display_name": "Python 3 (ipykernel)",
   "language": "python",
   "name": "python3"
  },
  "language_info": {
   "codemirror_mode": {
    "name": "ipython",
    "version": 3
   },
   "file_extension": ".py",
   "mimetype": "text/x-python",
   "name": "python",
   "nbconvert_exporter": "python",
   "pygments_lexer": "ipython3",
   "version": "3.11.3"
  }
 },
 "nbformat": 4,
 "nbformat_minor": 5
}
