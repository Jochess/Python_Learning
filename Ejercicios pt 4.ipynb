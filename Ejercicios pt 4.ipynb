{
 "cells": [
  {
   "cell_type": "markdown",
   "id": "1cdf3785",
   "metadata": {},
   "source": [
    "Definir una lista de nombre dias_semana que contenga los nombres de los siete días de la semana (empezar por lunes). Luego, imprimir cada elemento de la lista en una nueva línea."
   ]
  },
  {
   "cell_type": "code",
   "execution_count": 1,
   "id": "5b3d991b",
   "metadata": {},
   "outputs": [
    {
     "name": "stdout",
     "output_type": "stream",
     "text": [
      "Lunes\n",
      "Martes\n",
      "Miercoles\n",
      "Jueves\n",
      "Viernes\n",
      "Sabado\n",
      "Domingo \n"
     ]
    }
   ],
   "source": [
    "dias_semana=[\"Lunes\", \"Martes\",\"Miercoles\", \"Jueves\", \"Viernes\", \"Sabado\", \"Domingo \"]\n",
    "print(*dias_semana, sep=\"\\n\")"
   ]
  },
  {
   "cell_type": "markdown",
   "id": "2efa5b52",
   "metadata": {},
   "source": [
    "Definir una lista de nombre meses que contenga los nombres de los doce meses del año. Luego, utilizando la sintaxis de acceso a elementos (lista[indice]) imprimir los meses enero, junio y diciembre (en ese orden y cada uno en una línea nueva)."
   ]
  },
  {
   "cell_type": "code",
   "execution_count": 4,
   "id": "3dcbcce7",
   "metadata": {},
   "outputs": [
    {
     "name": "stdout",
     "output_type": "stream",
     "text": [
      "Enero\n",
      "Junio\n",
      "Diciembre\n"
     ]
    }
   ],
   "source": [
    "meses=[\"Enero\", \"Febrero\", \"Marzo\", \"Abril\", \"Mayo\", \"Junio\",\"Julio\",\"Agosto\",\"Septiembre\", \"Octubre\", \"Noviembre\",\"Diciembre\"]\n",
    "print(meses[0])\n",
    "print(meses[5])\n",
    "print(meses[11])\n"
   ]
  },
  {
   "cell_type": "markdown",
   "id": "0042e9dc",
   "metadata": {},
   "source": [
    "Ejercicio 3 - Solicitar número de mes\n",
    "Solicitarle al usuario un número de mes (o sea, un número entero entre 1 y 12) e imprimir el nombre del mes corresponiente a ese número. Para ello, definir una lista que contenga los nombres de los doce meses, y luego acceder al elemento correspondiente en base al número ingresado por el usuario. No utilizar condicionales para este procedimiento (aunque sí se permite utilizarlos para realizar las validaciones; por ejemplo, para asegurarse de que el número esté entre 1 y 12).\n",
    "\n",
    "Ejemplo de uso de este programa (en cursivas la entrada del usuario):\n",
    "\n",
    "Ingresa el número de mes: 1\n",
    "Enero\n",
    "\n",
    "Ingresa el número de mes: 7\n",
    "Julio\n",
    "\n",
    "Ingresa el número de mes: 4\n",
    "Abril"
   ]
  },
  {
   "cell_type": "code",
   "execution_count": 6,
   "id": "29de6d3d",
   "metadata": {},
   "outputs": [
    {
     "name": "stdout",
     "output_type": "stream",
     "text": [
      "Ingresa el numero de mes 12\n",
      "Diciembre\n"
     ]
    }
   ],
   "source": [
    "meses=[\"Enero\", \"Febrero\", \"Marzo\", \"Abril\", \"Mayo\", \"Junio\",\"Julio\",\"Agosto\",\"Septiembre\", \"Octubre\", \"Noviembre\",\"Diciembre\"]\n",
    "mes= int(input(\"Ingresa el numero de mes \"))\n",
    "print(meses[mes -1])"
   ]
  },
  {
   "cell_type": "markdown",
   "id": "f95d0ce9",
   "metadata": {},
   "source": [
    "Ejercicio 4 - Productos y descuentos\n",
    "Definir dos listas con los nombres precios_productos y descuentos_productos con la misma cantidad de elementos. La primera debe contener los precios de cuatro productos: 150, 100, 500, 200. La segunda debe contener los descuentos (expresados en porcentaje) que han de aplicarse a esos precios (en el mismo orden): 5, 30, 15, 10. Luego, el programa debe imprimir línea por línea los precios de los cuatro productos tras haberles aplicado el descuento. Así, el resultado impreso debe ser:\n",
    "\n",
    "142.5\n",
    "70.0\n",
    "425.0\n",
    "180.0\n",
    "\n",
    "Si se cambian los valores de alguno de los cuatro precios o descuentos en las definiciones de las listas, el resto del código debe seguir funcionando sin cambios."
   ]
  },
  {
   "cell_type": "code",
   "execution_count": 2,
   "id": "30afe6a8",
   "metadata": {},
   "outputs": [
    {
     "name": "stdout",
     "output_type": "stream",
     "text": [
      "142.5\n",
      "70.0\n",
      "425.0\n",
      "180.0\n"
     ]
    }
   ],
   "source": [
    "precios_productos=[150, 100, 500, 200]\n",
    "descuentos_productos= [5, 30, 15, 10]\n",
    "print(precios_productos[0] * (1 - descuentos_productos[0]/100))\n",
    "print(precios_productos[1] * (1 - descuentos_productos[1]/100))\n",
    "print(precios_productos[2] * (1 - descuentos_productos[2]/100))\n",
    "print(precios_productos[3] * (1 - descuentos_productos[3]/100))"
   ]
  },
  {
   "cell_type": "markdown",
   "id": "3a75547c",
   "metadata": {},
   "source": [
    "Ejercicio 5 - Nota excelente\n",
    "Solicitarle al usuario una lista de notas e imprimir si hay alguna nota igual a 10 dentro de la lista utilizando los mensajes del ejemplo debajo.\n",
    "\n",
    "Ejemplo de uso de este programa (en cursivas la entrada del usuario).\n",
    "\n",
    "Ingresa la lista de notas (separadas por espacios): 7 5 10 6\n",
    "¡Hay al menos una nota excelente!\n",
    "\n",
    "Otro ejemplo:\n",
    "\n",
    "Ingresa la lista de notas (separadas por espacios): 7 4 1 9\n",
    "No hay ninguna nota excelente."
   ]
  },
  {
   "cell_type": "code",
   "execution_count": 1,
   "id": "ec0df446",
   "metadata": {},
   "outputs": [
    {
     "name": "stdout",
     "output_type": "stream",
     "text": [
      "Ingresa la lista de notas: 10 8 9\n",
      "¡Hay al menos una nota excelente\n"
     ]
    }
   ],
   "source": [
    "notas_str= input(\"Ingresa la lista de notas: \")\n",
    "notas= list(map(int,notas_str.split()))\n",
    "if 10 in notas:\n",
    "    print(\"¡Hay al menos una nota excelente\")\n",
    "else:\n",
    "    print(\"No hay ninguna nota excelente :(\")"
   ]
  },
  {
   "cell_type": "markdown",
   "id": "762affd3",
   "metadata": {},
   "source": [
    "Ejercicio 6 - Ordenar notas\n",
    "El método .sort() de las listas permite ordenar una lista de números de menor a mayor. Por ejemplo, si notas es igual a [4, 6, 3, 5], tras utilizar notas.sort() el contenido de la lista es [3, 4, 5, 6]. Inversamente, puede usarse del mismo modo el método .sort(reverse=True) para ordenar una lista de números de mayor a menor.\n",
    "\n",
    "Teniendo esto en consideración, solicitarle una lista de notas al usuario (como números de coma flotante) e imprimir línea por línea, primero, las notas de menor a mayor y, luego, de mayor a menor.\n",
    "\n",
    "Ejemplo de uso de este programa (en cursivas la entrada del usuario):\n",
    "\n",
    "Ingresa la lista de notas (separadas por espacios): 5.5 9.5 8 3 10\n",
    "Notas ordenadas de menor a mayor:\n",
    "3.0\n",
    "5.5\n",
    "8.0\n",
    "9.5\n",
    "10.0\n",
    "Notas ordenadas de mayor a menor:\n",
    "10.0\n",
    "9.5\n",
    "8.0\n",
    "5.5\n",
    "3.0\n",
    "\n",
    "Téngase en cuenta que la lista de notas ingresada por el usuario puede tener cualquier cantidad de elementos."
   ]
  },
  {
   "cell_type": "code",
   "execution_count": 6,
   "id": "5ea335ae",
   "metadata": {},
   "outputs": [
    {
     "name": "stdout",
     "output_type": "stream",
     "text": [
      "[6, 5, 4, 3]\n"
     ]
    }
   ],
   "source": [
    "notas= [4,6,3,5]\n",
    "notas.sort(reverse=True)\n",
    "print(notas)"
   ]
  },
  {
   "cell_type": "code",
   "execution_count": 8,
   "id": "1e702dbd",
   "metadata": {},
   "outputs": [
    {
     "name": "stdout",
     "output_type": "stream",
     "text": [
      "Ingresa la lista de notas (Con espacios): 10.0 9.7 7.7 5.9\n",
      "[10.0, 9.7, 7.7, 5.9]\n",
      "[5.9, 7.7, 9.7, 10.0]\n"
     ]
    }
   ],
   "source": [
    "notas_str= input(\"Ingresa la lista de notas (Con espacios): \")\n",
    "notas= list(map(float, notas_str.split()))\n",
    "notas.sort(reverse=True)\n",
    "print(notas)\n",
    "notas.sort()\n",
    "print(notas)"
   ]
  },
  {
   "cell_type": "markdown",
   "id": "a411e82f",
   "metadata": {},
   "source": [
    "Ejercicio 7 - Estadísticas de cursos\n",
    "Solicitar al usuario dos listas de notas (como números de coma flotante): una para un curso de Python y otra para un curso de Java. Luego, imprimir las estadísticas de cada curso (nota máxima, nota mínima y nota promedio). Finalmente, indicar cuál de los dos cursos tuvo la mejor (o sea, la más alta) nota máxima, nota mínima y nota promedio. Para esto último se deberán utilizar condicionales.\n",
    "Ejemplo de uso de este programa (en cursivas la entrada del usuario):\n",
    "\n",
    "Ingresa las notas del curso de Python: 3 9 8.5 9.5\n",
    "Ingresa las notas del curso de Java: 5 10 6.5 8\n",
    "Estadísticas del curso de Python:\n",
    "Nota máxima: 9.5\n",
    "Nota mínima: 3.0\n",
    "Promedio de notas: 7.5\n",
    "Estadísticas del curso de Java:\n",
    "Nota máxima: 10.0\n",
    "Nota mínima: 5.0\n",
    "Promedio de notas: 7.375\n",
    "Curso con mejor nota máxima: Java\n",
    "Curso con mejor nota mínima: Java\n",
    "Curso con mejor promedio: Python"
   ]
  },
  {
   "cell_type": "code",
   "execution_count": 11,
   "id": "94e31eec",
   "metadata": {},
   "outputs": [
    {
     "name": "stdout",
     "output_type": "stream",
     "text": [
      "Ingresa las notas del curso de Python (con decimales) : 3 9 8.5 9.5\n",
      "Ingresa las notas del curso de Java (con decimales): 5 10 6.5 8\n",
      "Estas son las notas de el cuso de python:\n",
      "La nota maxima es:  9.5\n",
      "La nota minima es:  3.0\n",
      "El promedio de nota es:  7.5\n",
      "Estas son las notas del curso de Java\n",
      "La nota maxima es:  10.0\n",
      "La nota mas baja es;  5.0\n",
      "El promedio de las notas es:  7.375\n",
      "Curso con mejor nota máxima: Java\n",
      "Curso con mejor nota mínima: Java\n",
      "Curso con mejor promedio: Python\n"
     ]
    }
   ],
   "source": [
    "from statistics import mean\n",
    "Notas_python_str= input(\"Ingresa las notas del curso de Python (con decimales) : \")\n",
    "Notas_Java_str=input(\"Ingresa las notas del curso de Java (con decimales): \")\n",
    "print(\"Estas son las notas de el cuso de python:\")\n",
    "notas_python= list(map(float, Notas_python_str.split()))\n",
    "nota_maxima_py= max(notas_python)\n",
    "print(\"La nota maxima es: \", nota_maxima_py)\n",
    "nota_minima_py= min(notas_python)\n",
    "print(\"La nota minima es: \", nota_minima_py)\n",
    "promedio= mean(notas_python)\n",
    "print(\"El promedio de nota es: \", promedio)\n",
    "\n",
    "print(\"Estas son las notas del curso de Java\")\n",
    "notas_java= list(map(float, Notas_Java_str.split()))\n",
    "nota_maxima_ja= max(notas_java)\n",
    "print(\"La nota maxima es: \", nota_maxima_ja)\n",
    "nota_minima_ja= min(notas_java)\n",
    "print(\"La nota mas baja es; \", nota_minima_ja)\n",
    "promedio_ja= mean(notas_java)\n",
    "print(\"El promedio de las notas es: \", promedio_ja)\n",
    "\n",
    "if promedio > promedio_ja:\n",
    "    mejor_promedio = \"Python\"\n",
    "else:\n",
    "    mejor_promedio = \"Java\"\n",
    "\n",
    "if nota_maxima_py > nota_maxima_ja:\n",
    "    mejor_max = \"Python\"\n",
    "else:\n",
    "    mejor_max = \"Java\"\n",
    "\n",
    "if nota_minima_py > nota_minima_ja:\n",
    "    mejor_min = \"Python\"\n",
    "else:\n",
    "    mejor_min = \"Java\"\n",
    "\n",
    "print(\"Curso con mejor nota máxima:\", mejor_max)\n",
    "print(\"Curso con mejor nota mínima:\", mejor_min)\n",
    "print(\"Curso con mejor promedio:\", mejor_promedio)"
   ]
  },
  {
   "cell_type": "markdown",
   "id": "144b5592",
   "metadata": {},
   "source": [
    "Ejercicio 8 - Carrito de productos\n",
    "Solicitar una lista de productos (como cadenas) que represente un carrito de compras. Todas las compras tienen un par de auriculares de regalo, por lo cual si el producto \"Auriculares\" (sin comillas) no se encuentra dentro de la lista ingresada por el usuario, hay que agregarlo al final del carrito (utilizar la palabra reservada in y el método .append()) e imprimir un mensaje indicando que se agregaron un par de auriculares de regalo. Si el usuario incluyó \"Auriculares\" en la entrada, no hay que agregar nada a la lista para que el producto no aparezca repetido. Por último, imprimir la cantidad de productos en el carrito y cada uno de los productos en una línea nueva.\n",
    "\n",
    "Ejemplo de uso de este programa (en cursivas la entrada del usuario):\n",
    "\n",
    "Ingresa los productos para el carrito: Mouse Teclado Monitor\n",
    "¡Se agregaron unos auriculares de regalo!\n",
    "Cantidad de productos en el carrito: 4\n",
    "Mouse\n",
    "Teclado\n",
    "Monitor\n",
    "Auriculares"
   ]
  },
  {
   "cell_type": "code",
   "execution_count": 3,
   "id": "d665370e",
   "metadata": {},
   "outputs": [
    {
     "name": "stdout",
     "output_type": "stream",
     "text": [
      "Ingresa la lista de productos (Separados por esacios): Mouse teclado microfono\n",
      "¡Felicidades te has ganado unos auriculares!\n",
      "Cantidad de productos en el carrito: 4\n",
      "Mouse\n",
      "teclado\n",
      "microfono\n",
      "Auriculares\n"
     ]
    }
   ],
   "source": [
    "productos_str= input(\"Ingresa la lista de productos (Separados por esacios): \")\n",
    "productos= productos_str.split()\n",
    "\n",
    "if not \"Auriculares\" in productos:\n",
    "    productos.append(\"Auriculares\")\n",
    "    print(\"¡Felicidades te has ganado unos auriculares!\")\n",
    "\n",
    "    print(\"Cantidad de productos en el carrito:\", len(productos))\n",
    "print(*productos, sep=\"\\n\")"
   ]
  },
  {
   "cell_type": "code",
   "execution_count": null,
   "id": "6a781487",
   "metadata": {},
   "outputs": [],
   "source": []
  }
 ],
 "metadata": {
  "kernelspec": {
   "display_name": "Python 3 (ipykernel)",
   "language": "python",
   "name": "python3"
  },
  "language_info": {
   "codemirror_mode": {
    "name": "ipython",
    "version": 3
   },
   "file_extension": ".py",
   "mimetype": "text/x-python",
   "name": "python",
   "nbconvert_exporter": "python",
   "pygments_lexer": "ipython3",
   "version": "3.11.3"
  }
 },
 "nbformat": 4,
 "nbformat_minor": 5
}
